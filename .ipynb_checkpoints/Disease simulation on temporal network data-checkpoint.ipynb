{
 "cells": [
  {
   "cell_type": "code",
   "execution_count": null,
   "metadata": {
    "collapsed": true
   },
   "outputs": [],
   "source": []
  },
  {
   "cell_type": "code",
   "execution_count": null,
   "metadata": {
    "collapsed": true
   },
   "outputs": [],
   "source": []
  },
  {
   "cell_type": "markdown",
   "metadata": {},
   "source": [
    "## Data\n",
    "\n",
    "Lets choose a dataset and read it in. The data sets are 'conference', 'hospital', and 'looped_primary_school', all taken from sociopatterns.org. In these studies, participants wore radiofrequency identification (RFID) sensors that detect face-to-face proximity of other participants within $1-1.5$ meters in $20$-second intervals. Each data-set lists the identities of the people in contact, as well as the $20$-second interval of detection. These data have been formatted to appear in a table with the start and end times of the interaction listed instead. To exclude contacts detected while participants momentarily walked past one another, only contacts that are detected in at least two consecutive intervals are considered interactions. "
   ]
  },
  {
   "cell_type": "code",
   "execution_count": 3,
   "metadata": {},
   "outputs": [
    {
     "name": "stdout",
     "output_type": "stream",
     "text": [
      "    ID1   ID2  end_time  start_time\n",
      "0  1538  1539     56580       56520\n",
      "1  1538  1546     35340       35180\n",
      "2  1538  1546     37720       37480\n",
      "3  1538  1546     55960       55900\n",
      "4  1538  1546     56060       56000\n"
     ]
    }
   ],
   "source": [
    "import pandas as pd\n",
    "data='looped_primary_school'\n",
    "original_df=pd.read_csv('data/'+data+'.txt', sep='\\t', header=None, names=['ID1','ID2','start_time','end_time'])\n",
    "# read it again with edge directions reversed (so that the disease can go in both directions)\n",
    "reverse_df=pd.read_csv('data/'+data+'.txt', sep='\\t', header=None, names=['ID2','ID1','start_time','end_time'])    \n",
    "#put them together\n",
    "df=pd.concat([original_df,reverse_df]) \n",
    "\n",
    "print(df.head())"
   ]
  },
  {
   "cell_type": "markdown",
   "metadata": {},
   "source": [
    "To make the simulation both simple and fast it is beneficial to keep the data in the following format:"
   ]
  },
  {
   "cell_type": "code",
   "execution_count": 5,
   "metadata": {
    "collapsed": true
   },
   "outputs": [],
   "source": [
    "ID_list=list(set(df['ID1']))     \n",
    "contacts_dict={}\n",
    "for node in ID_list:\n",
    "    node_df=df[(df['ID1']==node)]\n",
    "    names=node_df['ID2'].tolist()\n",
    "    start_times=node_df['start_time'].tolist()\n",
    "    end_times=node_df['end_time'].tolist()\n",
    "    contacts_dict[node]=[]\n",
    "    for i in range(len(names)):\n",
    "        contacts_dict[node].append([names[i],start_times[i],end_times[i],0])\n"
   ]
  },
  {
   "cell_type": "markdown",
   "metadata": {},
   "source": [
    "In addition to the data we need to choose the parameters that describe the disease model. These are all held in one dictionary: "
   ]
  },
  {
   "cell_type": "code",
   "execution_count": 6,
   "metadata": {
    "collapsed": true
   },
   "outputs": [],
   "source": [
    "parameters={'beta':0.001,\n",
    "            'l_mode':22, \n",
    "            'l_dispersion':1.1,\n",
    "            'i_mode':2,\n",
    "            'i_shape':5,\n",
    "            'asymptomatic_proportion':0.0,\n",
    "            }"
   ]
  },
  {
   "cell_type": "markdown",
   "metadata": {},
   "source": [
    "## Transmissibility $\\beta$\n",
    "\n",
    "$\\beta$ is the probability that transmission occurs during any one second of contact between an infectious individual and a susceptible individual.\n",
    "\n",
    "## Latent period mode $\\hat{\\Delta}_{E}$\n",
    "\n",
    "\n",
    "## Latent period dispersion $\\sigma_{g}^{(E)}$\n",
    "\n",
    "The duration of the latent period may vary between individuals depending on their age, gender, or other characteristics \\cite{blythe1988distributed,lloyd2001destabilization,lloyd2001realistic,10.1371/journal.pmed.0020174}. While the latent period and the incubation period are not the same, we assume that the biological factors determining their length to be similar, i.e. the processes described in \\cite{10.7554/eLife.30212}, and thus we assume that the distribution of latent periods is log-Normal \\cite{sartwell1950distribution}. In the simulation, the latent duration for each infected individual is drawn from a log-Normal distribution with mode $\\hat{\\Delta}_{E}$ and dispersion factor $\\sigma_{g}^{(E)}$ (the geometric standard deviation of the distribution). We use $\\sigma=\\sigma_{g}^{(E)}$ and $\\mu= \\sigma^{2}+\\log(\\hat{\\Delta}_{E})$ to get the standard parameters for the log-Normal distribution.\n",
    "\n",
    "\n",
    "## Infections period mode $\\hat{\\Delta}_{I}$\n",
    "\n",
    "\n",
    "## Perseverance $1/k_{I}$\n",
    "\n",
    "Once infected, the behavioral response of individuals may vary; some might leave the system (or take other measures to prevent infection) immediately, whereas some may remain a risk to others for a more prolonged duration \\cite{doi:10.1093/aje/kwt196}. In the simulation, the duration of the infectious period of each individual is randomly selected from a gamma distribution with a mode of $\\hat{\\Delta}_{I}$ hours. We define perseverance as $1/k_{I}$ where $k_{I}$ is the shape parameter of the gamma distribution. By choosing the scale parameter of the Gamma distribution to be $\\theta=\\hat{\\Delta}_{I}/(k_{I}-1)$ we ensure that the mode does not change while increasing the perseverance fattens the the tail of the distribution.\n",
    "\n",
    "## Asymptomatic proportion $a$\n",
    "\n",
    "Some members of the population may show no signs of infection (up to $28\\%$ reported for influenza \\cite{leung2015review} and $32\\%$ for rhinovirus \\cite{jacobs2013human}), or might just ignore them completely, in which case their behavior does not change. At the beginning of the simulation, a random sample of the population are chosen to be asymptomatic. These individuals, who make up a fraction $a$ of the total population, have an infectious period of $24$ hours. We also acknowledge that immunocompromised individuals are asymptomatic and infectious for extremely long periods of time \\cite{10.1371/journal.pone.0148258}, however, we consider these cases to be too rare to incorporate into the model.\n"
   ]
  },
  {
   "cell_type": "markdown",
   "metadata": {},
   "source": [
    "![alt text](Figs/Disease_simulation_flow_chart.png \"Title\")"
   ]
  },
  {
   "cell_type": "code",
   "execution_count": null,
   "metadata": {
    "collapsed": true
   },
   "outputs": [],
   "source": []
  }
 ],
 "metadata": {
  "kernelspec": {
   "display_name": "Python 3",
   "language": "python",
   "name": "python3"
  },
  "language_info": {
   "codemirror_mode": {
    "name": "ipython",
    "version": 3
   },
   "file_extension": ".py",
   "mimetype": "text/x-python",
   "name": "python",
   "nbconvert_exporter": "python",
   "pygments_lexer": "ipython3",
   "version": "3.6.3"
  }
 },
 "nbformat": 4,
 "nbformat_minor": 2
}
