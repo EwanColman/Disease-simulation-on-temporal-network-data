{
 "cells": [
  {
   "cell_type": "markdown",
   "metadata": {},
   "source": [
    "# Disease simulation on temporal network data\n",
    "\n",
    "This simulation was originally made to examine the outcomes of disease outbreaks under various different conditions regarding the type and severity of people's behavior change in responses to the symptoms of an infectious disease. However, by choosing the parameter values appropriately, the simulation can also be used to test situations where there is no behavioral reaction. The code described in this notebook is can also be found in the same repository, temporal_simulation.py is the main simulation code and example.py is is a working example of how to implement it (the same example shown here). "
   ]
  },
  {
   "cell_type": "markdown",
   "metadata": {},
   "source": [
    "## Data\n",
    "\n",
    "Lets choose a dataset and read it in. The data sets are 'conference', 'hospital', 'looped_primary_school', and 'synthetic_temporal_data', all taken from sociopatterns.org. In these studies, participants wore radiofrequency identification (RFID) sensors that detect face-to-face proximity of other participants within $1-1.5$ meters in $20$-second intervals. Each data-set lists the identities of the people in contact, as well as the $20$-second interval of detection. These data have been formatted to appear in a table with the start and end times of the interaction listed instead. To exclude contacts detected while participants momentarily walked past one another, only contacts that are detected in at least two consecutive intervals are considered interactions. \n",
    "\n",
    "The three data-sets used were: (a) a conference in which $110$ participants were recorded over $3$ days, (b) a hospital ward in which $74$ participants were recorded over $4$ days, and (c) a primary school in which $242$ participants were recorded over $2$ days. We looped this data to produce a dataset spanning six weeks. We used the first day to represent Monday, Wednesday and Friday and the second day to represent Tuesday and Thursday. We then added 2 days of inactivity to replicate a typical school week and weekend."
   ]
  },
  {
   "cell_type": "code",
   "execution_count": 10,
   "metadata": {},
   "outputs": [
    {
     "name": "stdout",
     "output_type": "stream",
     "text": [
      "    ID1   ID2  end_time  start_time\n",
      "0  1538  1539     56580       56520\n",
      "1  1538  1546     35340       35180\n",
      "2  1538  1546     37720       37480\n",
      "3  1538  1546     55960       55900\n",
      "4  1538  1546     56060       56000\n"
     ]
    }
   ],
   "source": [
    "import pandas as pd\n",
    "data='looped_primary_school'\n",
    "original_df=pd.read_csv('data/'+data+'.txt', sep='\\t', header=None, names=['ID1','ID2','start_time','end_time'])\n",
    "# read it again with edge directions reversed (so that the disease can go in both directions)\n",
    "reverse_df=pd.read_csv('data/'+data+'.txt', sep='\\t', header=None, names=['ID2','ID1','start_time','end_time'])    \n",
    "#put them together\n",
    "df=pd.concat([original_df,reverse_df]) \n",
    "\n",
    "print(df.head())"
   ]
  },
  {
   "cell_type": "markdown",
   "metadata": {},
   "source": [
    "To make the simulation both simple and fast it is beneficial to keep the data in the following format:"
   ]
  },
  {
   "cell_type": "code",
   "execution_count": 15,
   "metadata": {
    "collapsed": true
   },
   "outputs": [],
   "source": [
    "ID_list=list(set(df['ID1']))     \n",
    "contacts={}\n",
    "for node in ID_list:\n",
    "    node_df=df[(df['ID1']==node)]\n",
    "    names=node_df['ID2'].tolist()\n",
    "    start_times=node_df['start_time'].tolist()\n",
    "    end_times=node_df['end_time'].tolist()\n",
    "    contacts[node]=[]\n",
    "    for i in range(len(names)):\n",
    "        contacts[node].append([names[i],start_times[i],end_times[i],0])"
   ]
  },
  {
   "cell_type": "markdown",
   "metadata": {},
   "source": [
    "In addition to the data we need to choose the parameters that describe the disease model. Specifically these are:\n",
    "\n",
    "## Transmissibility $\\beta$\n",
    "\n",
    "$\\beta$ is the probability that transmission occurs during any one second of contact between an infectious individual and a susceptible individual.\n",
    "\n",
    "## Latent period mode, $\\hat{\\Delta}_{E}$, and  dispersion, $\\sigma_{g}^{(E)}$\n",
    "\n",
    "The duration of the latent period may vary between individuals depending on their age, gender, or other characteristics. While the latent period and the incubation period are not the same, we assume that the biological factors determining their length to be similar, and thus we assume that the distribution of latent periods is log-Normal \\cite{sartwell1950distribution}. In the simulation, the latent duration for each infected individual is drawn from a log-Normal distribution with mode $\\hat{\\Delta}_{E}$ and dispersion factor $\\sigma_{g}^{(E)}$ (the geometric standard deviation of the distribution). We use $\\sigma=\\sigma_{g}^{(E)}$ and $\\mu= \\sigma^{2}+\\log(\\hat{\\Delta}_{E})$ to get the standard parameters for the log-Normal distribution.\n",
    "\n",
    "##  Infections period mode, $\\hat{\\Delta}_{I}$, and perseverance, $1/k_{I}$\n",
    "\n",
    "Once infected, the behavioral response of individuals may vary; some might leave the system (or take other measures to prevent infection) immediately, whereas some may remain a risk to others for a more prolonged duration. In the simulation, the duration of the infectious period of each individual is randomly selected from a gamma distribution with a mode of $\\hat{\\Delta}_{I}$ hours. We define perseverance as $1/k_{I}$ where $k_{I}$ is the shape parameter of the gamma distribution. By choosing the scale parameter of the Gamma distribution to be $\\theta=\\hat{\\Delta}_{I}/(k_{I}-1)$ we ensure that the mode does not change while increasing the perseverance fattens the the tail of the distribution.\n",
    "\n",
    "## Asymptomatic proportion $a$\n",
    "\n",
    "Some members of the population may show no signs of infection (up to $28\\%$ reported for influenza and $32\\%$ for rhinovirus), or might just ignore them completely, in which case their behavior does not change. At the beginning of the simulation, a random sample of the population are chosen to be asymptomatic. These individuals, who make up a fraction $a$ of the total population, have an infectious period of $24$ hours (this is hard-coded in the simulation).\n",
    "\n",
    "We keep all of these parameters in a dictionary:"
   ]
  },
  {
   "cell_type": "code",
   "execution_count": 20,
   "metadata": {
    "collapsed": true
   },
   "outputs": [],
   "source": [
    "params={'beta':0.001,\n",
    "            'l_mode':22, \n",
    "            'l_dispersion':1.1,\n",
    "            'i_mode':2,\n",
    "            'i_shape':5,\n",
    "            'asymptomatic_proportion':0.0,\n",
    "            }"
   ]
  },
  {
   "cell_type": "markdown",
   "metadata": {},
   "source": [
    "Finally we need to have a seed individual from which the outbreak begins, and we need to choose a time for which the infectious period of the seed individual begins. Here we just choose a random individual and let their infectious period begin the moment they start interacting:"
   ]
  },
  {
   "cell_type": "code",
   "execution_count": 23,
   "metadata": {
    "collapsed": true
   },
   "outputs": [],
   "source": [
    "import numpy.random as rdm\n",
    "seed=ID_list[int(len(ID_list)*rdm.random())]\n",
    "time=min([contact[1] for contact in contacts_dict[seed]])"
   ]
  },
  {
   "cell_type": "markdown",
   "metadata": {},
   "source": [
    "The simulation procedure runs as follows. Arrows show the order in which operations are to be completed. Blue boxes represent conditional rules of the algorithm; green ticks indicate the next operation if the answer is yes, red crosses if the answer is no. To make it easier to follow, the diagram below does not show how asymptomatic individuals are included in the simulation. "
   ]
  },
  {
   "cell_type": "markdown",
   "metadata": {},
   "source": [
    "<img src=\"Figs/Disease_simulation_flow_chart.png\" alt=\"Drawing\" style=\"width:600px;\"/>"
   ]
  },
  {
   "cell_type": "markdown",
   "metadata": {},
   "source": [
    "This is what it looks like in Python code:"
   ]
  },
  {
   "cell_type": "code",
   "execution_count": 24,
   "metadata": {
    "collapsed": true
   },
   "outputs": [],
   "source": [
    "import numpy as np\n",
    "import random\n",
    "\n",
    "susceptible_nodes=list(set(contacts.keys()))\n",
    "N=len(susceptible_nodes)\n",
    "\n",
    "time_of_infection={}\n",
    "\n",
    "source_of_infection={seed:None}\n",
    "#make a proportion of the nodes asymptomatic\n",
    "asymptomatic_nodes=random.sample(susceptible_nodes,int(N*params['asymptomatic_proportion']))\n",
    "\n",
    "#infection_tree is the tree network of infections that the function returns\n",
    "infection_tree=[]    \n",
    "#keep a list of infected nodes (at the beginning it contains only 'node')    \n",
    "infections=[[seed,time]]\n",
    "\n",
    "#get the parameters for the lognormal distribution\n",
    "sigma=np.log(params['l_dispersion'])\n",
    "mu=(sigma**2)+np.log(params['l_mode'])\n",
    "\n",
    "while len(infections) > 0:\n",
    "\n",
    "    #get earliest infection event on the list\n",
    "    next_infection=min(infections,key=lambda x: x[1])        \n",
    "    #remove the chosen infection\n",
    "    infections.remove(next_infection)\n",
    "\n",
    "    infectious_node=next_infection[0]\n",
    "    #add it to the immune list\n",
    "    susceptible_nodes.remove(infectious_node)     \n",
    "    #update the time\n",
    "    time=next_infection[1]\n",
    "\n",
    "    #add to the tree\n",
    "    infection_tree.append(next_infection+[source_of_infection[infectious_node]])\n",
    "\n",
    "    #randomly select a latent duration \n",
    "    if infectious_node==seed:\n",
    "        latent_duration=0\n",
    "    else:\n",
    "        latent_duration=int(60*60*np.random.lognormal(mu,sigma))\n",
    "\n",
    "    #randomly select an infectious duration for each type\n",
    "    infectious_duration={}\n",
    "    for i in range(2):\n",
    "        if infectious_node in asymptomatic_nodes:\n",
    "            infectious_duration=24*60*60\n",
    "        else:\n",
    "            infectious_duration=int(60*60*np.random.gamma(params['i_shape'], scale=params['i_mode']/(params['i_shape']-1)))\n",
    "\n",
    "    #contact_list=contacts[infectious_node].copy()#\n",
    "    contact_list=[contact for contact in contacts[infectious_node] if contact[1]<time+latent_duration+infectious_duration and contact[2]>time+latent_duration]\n",
    "    #loop over all the potentially infectious interactions\n",
    "    while len(contact_list) > 0:\n",
    "        contact=contact_list.pop()\n",
    "\n",
    "        name=contact[0]\n",
    "        contact_start=contact[1]\n",
    "        contact_end=contact[2]\n",
    "\n",
    "        #exposure starts either at the start of infectious period or the start of interaction, whichever is later\n",
    "        exposure_start=max(time+latent_duration,contact_start)\n",
    "        #exposure endes at the end of infectious period or the end of interaction, whichever is earlier\n",
    "        exposure_end=min(time+latent_duration+infectious_duration,contact_end)                          \n",
    "\n",
    "        #select a random time for the infection to occur\n",
    "        r=random.random()\n",
    "        #this is equivalent to an attempt at transmission occuring each second (different beta depending on the location)           \n",
    "        l=l=-np.log(1-params['beta'])              \n",
    "        #l=-np.log(1-b)                              \n",
    "        infection_time=exposure_start+int(-(1/l)*np.log(1-r))             \n",
    "\n",
    "        #check that the interaction is with a susceptible node, that it is not a sick day at work                                  \n",
    "        if infection_time<exposure_end and name in susceptible_nodes:\n",
    "            #if this is the case then a potential infection occurs!\n",
    "\n",
    "            #if 'name' is already in the list of infections then check to see which happened first\n",
    "            if name in [i[0] for i in infections]:\n",
    "                if infection_time<time_of_infection[name]:\n",
    "                    #remove the later infection time\n",
    "                    infections.remove([name,time_of_infection[name]])\n",
    "                    #add the earlier infection time\n",
    "                    infections.append([name,infection_time])\n",
    "                    #keep track of where it came from\n",
    "                    source_of_infection[name]=infectious_node\n",
    "                    #update the list\n",
    "                    time_of_infection[name]=infection_time\n",
    "            #if this is the first time 'name' has been infected then add it to the list\n",
    "            else:\n",
    "                #keep track of the time of the infection\n",
    "                time_of_infection[name]=infection_time\n",
    "                #keep track of who it came from\n",
    "                source_of_infection[name]=infectious_node\n",
    "                #update the list\n",
    "                infections.append([name,infection_time])"
   ]
  },
  {
   "cell_type": "markdown",
   "metadata": {},
   "source": [
    "Now we are interested in knowing who infected whom in the simulation. This is the infection tree. We thus have:"
   ]
  },
  {
   "cell_type": "code",
   "execution_count": 25,
   "metadata": {},
   "outputs": [
    {
     "name": "stdout",
     "output_type": "stream",
     "text": [
      "1628 infected by None at time 31540\n",
      "1613 infected by 1628 at time 35511\n",
      "1625 infected by 1628 at time 35840\n",
      "1911 infected by 1625 at time 122298\n",
      "1647 infected by 1613 at time 126515\n",
      "1902 infected by 1613 at time 129045\n",
      "1855 infected by 1613 at time 129870\n",
      "1708 infected by 1613 at time 131596\n",
      "1700 infected by 1613 at time 131788\n",
      "1780 infected by 1613 at time 132346\n",
      "1738 infected by 1780 at time 204980\n",
      "1737 infected by 1780 at time 208200\n",
      "1872 infected by 1855 at time 208254\n",
      "1822 infected by 1780 at time 215721\n",
      "1552 infected by 1700 at time 216603\n",
      "1579 infected by 1700 at time 220235\n",
      "1743 infected by 1708 at time 224300\n",
      "1564 infected by 1822 at time 293217\n",
      "1555 infected by 1738 at time 294963\n",
      "1731 infected by 1822 at time 295267\n",
      "1887 infected by 1743 at time 311128\n",
      "1558 infected by 1564 at time 377646\n",
      "1722 infected by 1555 at time 384403\n"
     ]
    }
   ],
   "source": [
    "for t in infection_tree:\n",
    "    print(t[0],'infected by',t[2],'at time',t[1])"
   ]
  }
 ],
 "metadata": {
  "kernelspec": {
   "display_name": "Python 3",
   "language": "python",
   "name": "python3"
  },
  "language_info": {
   "codemirror_mode": {
    "name": "ipython",
    "version": 3
   },
   "file_extension": ".py",
   "mimetype": "text/x-python",
   "name": "python",
   "nbconvert_exporter": "python",
   "pygments_lexer": "ipython3",
   "version": "3.7.3"
  }
 },
 "nbformat": 4,
 "nbformat_minor": 2
}
